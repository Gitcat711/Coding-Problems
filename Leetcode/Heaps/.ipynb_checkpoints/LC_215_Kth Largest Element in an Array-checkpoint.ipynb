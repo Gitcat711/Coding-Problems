{
 "cells": [
  {
   "cell_type": "markdown",
   "metadata": {},
   "source": [
    "# 215. Kth Largest Element in an Array"
   ]
  },
  {
   "cell_type": "markdown",
   "metadata": {},
   "source": [
    "> <pre>\n",
    "Find the Kth largest element in an Unsorted Array.\n",
    "Note that it is the kth largest element in the sorted order, not the Kth distinct element\n",
    "<pre>"
   ]
  },
  {
   "cell_type": "markdown",
   "metadata": {},
   "source": [
    "```\n",
    "Input : [1,3,2,5,6,4] and k = 2\n",
    "Output : 5\n",
    "\n",
    "Input : [1,3,4,5,4,1,6,] and k = 4\n",
    "Output : 4\n",
    "```\n",
    "- **Assuming k is always valid**"
   ]
  },
  {
   "cell_type": "markdown",
   "metadata": {},
   "source": [
    "<pre>\n",
    "Algorithm\n",
    "1. Brute Force:\n",
    "    - Sort an array \n",
    "    - Do the backward iteration on new sorted\n",
    "Time : O(NlogN)\n",
    "Space: O(N) if auxillary, O(1) if input array can be modified.\n",
    "\n",
    "2. Using Min Heap\n",
    "    - Iterate though the array and push elements in priority_queue(min heap)\n",
    "    - if length of the heap is greater than K\n",
    "        - pop the element.\n",
    "    - Eventually return the min value of heap(root node)\n",
    "    - This value is also the Kth Largest value from the array.\n",
    "\n",
    "> heappush(iterable, element), heappop(iterable) works in log(n) and internally maintains min heap. For each array element do a heap push/pop on Heap of Size k.**\n",
    "\n",
    "Time: O(Nlogk)\n",
    "Space: O(k)\n",
    "</pre>\n",
    "\n"
   ]
  },
  {
   "cell_type": "code",
   "execution_count": 2,
   "metadata": {},
   "outputs": [],
   "source": [
    "from heapq import heappush, heappop\n",
    "def findKlargest(nums, k):\n",
    "    prior_que = []\n",
    "    for num in nums:\n",
    "        heappush(prior_que, num)\n",
    "        if len(prior_que) > k:\n",
    "            heappop(prior_que)\n",
    "            \n",
    "    return prior_que[0]"
   ]
  },
  {
   "cell_type": "code",
   "execution_count": 3,
   "metadata": {},
   "outputs": [
    {
     "data": {
      "text/plain": [
       "5"
      ]
     },
     "execution_count": 3,
     "metadata": {},
     "output_type": "execute_result"
    }
   ],
   "source": [
    "#[1,3,2,5,6,4] and k = 2\n",
    "# Output : 5\n",
    "findKlargest([1,3,2,5,6,4], 2)"
   ]
  },
  {
   "cell_type": "code",
   "execution_count": 4,
   "metadata": {},
   "outputs": [
    {
     "data": {
      "text/plain": [
       "4"
      ]
     },
     "execution_count": 4,
     "metadata": {},
     "output_type": "execute_result"
    }
   ],
   "source": [
    "# Input : [1,3,4,5,4,1,6,] and k = 4\n",
    "# Output : 4\n",
    "findKlargest([1,3,4,5,4,1,6,],4)"
   ]
  },
  {
   "cell_type": "code",
   "execution_count": null,
   "metadata": {},
   "outputs": [],
   "source": []
  }
 ],
 "metadata": {
  "kernelspec": {
   "display_name": "Python 3",
   "language": "python",
   "name": "python3"
  },
  "language_info": {
   "codemirror_mode": {
    "name": "ipython",
    "version": 3
   },
   "file_extension": ".py",
   "mimetype": "text/x-python",
   "name": "python",
   "nbconvert_exporter": "python",
   "pygments_lexer": "ipython3",
   "version": "3.8.0"
  }
 },
 "nbformat": 4,
 "nbformat_minor": 2
}
