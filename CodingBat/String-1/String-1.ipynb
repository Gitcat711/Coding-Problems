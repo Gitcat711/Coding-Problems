{
 "cells": [
  {
   "cell_type": "markdown",
   "metadata": {},
   "source": [
    "# STRING-1 Coding Bat"
   ]
  },
  {
   "cell_type": "markdown",
   "metadata": {},
   "source": [
    "## hello_name\n",
    "\n",
    "<pre>\n",
    "Given a string name, e.g. \"Bob\", return a greeting of the form \"Hello Bob!\".\n",
    "</pre>\n",
    "\n",
    "```python \n",
    ">> hello_name('Bob') \n",
    ">> 'Hello Bob!'\n",
    ">> hello_name('Alice') \n",
    ">> 'Hello Alice!'\n",
    ">> hello_name('X') \n",
    ">> 'Hello X!'\n",
    "```"
   ]
  },
  {
   "cell_type": "code",
   "execution_count": 1,
   "metadata": {},
   "outputs": [],
   "source": [
    "def hello_name(name):\n",
    "  return \"Hello\" +\" \"+ name + \"!\""
   ]
  },
  {
   "cell_type": "code",
   "execution_count": 2,
   "metadata": {},
   "outputs": [
    {
     "data": {
      "text/plain": [
       "'Hello Bob!'"
      ]
     },
     "execution_count": 2,
     "metadata": {},
     "output_type": "execute_result"
    }
   ],
   "source": [
    "hello_name('Bob')"
   ]
  },
  {
   "cell_type": "code",
   "execution_count": 3,
   "metadata": {},
   "outputs": [
    {
     "data": {
      "text/plain": [
       "'Hello X!'"
      ]
     },
     "execution_count": 3,
     "metadata": {},
     "output_type": "execute_result"
    }
   ],
   "source": [
    "hello_name('X')"
   ]
  },
  {
   "cell_type": "markdown",
   "metadata": {},
   "source": [
    "------------------------------------------"
   ]
  },
  {
   "cell_type": "markdown",
   "metadata": {},
   "source": [
    "##  make_abba\n",
    "\n",
    "<pre>\n",
    "Given two strings, a and b, return the result of putting them together in the order abba, e.g. \"Hi\" and \"Bye\" returns \"HiByeByeHi\".\n",
    "</pre>\n",
    "\n",
    "```python\n",
    ">> make_abba('Hi', 'Bye') \n",
    ">> 'HiByeByeHi'\n",
    ">> make_abba('Yo', 'Alice') \n",
    ">> 'YoAliceAliceYo'\n",
    ">> make_abba('What', 'Up') \n",
    ">> 'WhatUpUpWhat'\n",
    "```"
   ]
  },
  {
   "cell_type": "code",
   "execution_count": 4,
   "metadata": {},
   "outputs": [],
   "source": [
    "def make_abba(a, b):\n",
    "  return a+b+b+a\n"
   ]
  },
  {
   "cell_type": "code",
   "execution_count": 5,
   "metadata": {},
   "outputs": [
    {
     "data": {
      "text/plain": [
       "'HiByeByeHi'"
      ]
     },
     "execution_count": 5,
     "metadata": {},
     "output_type": "execute_result"
    }
   ],
   "source": [
    "make_abba('Hi', 'Bye')"
   ]
  },
  {
   "cell_type": "code",
   "execution_count": 6,
   "metadata": {},
   "outputs": [
    {
     "data": {
      "text/plain": [
       "'WhatUpUpWhat'"
      ]
     },
     "execution_count": 6,
     "metadata": {},
     "output_type": "execute_result"
    }
   ],
   "source": [
    "make_abba('What', 'Up')"
   ]
  },
  {
   "cell_type": "markdown",
   "metadata": {},
   "source": [
    "--------------------------------------------------"
   ]
  },
  {
   "cell_type": "markdown",
   "metadata": {},
   "source": [
    "## make_tags\n",
    "\n",
    "<pre>\n",
    "The web is built with HTML strings like \"<i>Yay</i>\" which draws Yay as italic text. In this example, the \"i\" tag makes <i> and </i> which surround the word \"Yay\". Given tag and word strings, create the HTML string with tags around the word, e.g. \"<i>Yay</i>\".\n",
    "</pre>\n",
    "\n",
    "```python \n",
    ">> make_tags('i', 'Yay') \n",
    ">> '<i>Yay</i>'\n",
    ">> make_tags('i', 'Hello') \n",
    ">> '<i>Hello</i>'\n",
    ">> make_tags('cite', 'Yay') \n",
    ">> '<cite>Yay</cite>'\n",
    "```"
   ]
  },
  {
   "cell_type": "code",
   "execution_count": 7,
   "metadata": {},
   "outputs": [],
   "source": [
    "def make_tags(tag, word):\n",
    "  return '<'+tag+'>' + word +'</'+tag+'>'\n"
   ]
  },
  {
   "cell_type": "code",
   "execution_count": 8,
   "metadata": {},
   "outputs": [
    {
     "data": {
      "text/plain": [
       "'<i>Yay</i>'"
      ]
     },
     "execution_count": 8,
     "metadata": {},
     "output_type": "execute_result"
    }
   ],
   "source": [
    "make_tags('i', 'Yay')"
   ]
  },
  {
   "cell_type": "code",
   "execution_count": 9,
   "metadata": {},
   "outputs": [
    {
     "data": {
      "text/plain": [
       "'<cite>Yay</cite>'"
      ]
     },
     "execution_count": 9,
     "metadata": {},
     "output_type": "execute_result"
    }
   ],
   "source": [
    "make_tags('cite', 'Yay') "
   ]
  },
  {
   "cell_type": "markdown",
   "metadata": {},
   "source": [
    "--------------------------------------------------------"
   ]
  },
  {
   "cell_type": "markdown",
   "metadata": {},
   "source": [
    "##  make_out_word\n",
    "\n",
    "Given an \"out\" string length 4, such as \"<<>>\", and a word, return a new string where the word is in the middle of the out string, e.g. \"<<word>>\".\n",
    "    \n",
    "```python \n",
    ">> make_out_word('<<>>', 'Yay') \n",
    ">> '<<Yay>>'\n",
    ">> make_out_word('<<>>', 'WooHoo') \n",
    ">> '<<WooHoo>>'   \n",
    ">> make_out_word('[[]]', 'word') \n",
    ">> '[[word]]'\n",
    "```"
   ]
  },
  {
   "cell_type": "code",
   "execution_count": 10,
   "metadata": {},
   "outputs": [],
   "source": [
    "def make_out_word(out, word):\n",
    "  return out[:2] + word + out[2:]"
   ]
  },
  {
   "cell_type": "code",
   "execution_count": 11,
   "metadata": {},
   "outputs": [
    {
     "data": {
      "text/plain": [
       "'<<Yay>>'"
      ]
     },
     "execution_count": 11,
     "metadata": {},
     "output_type": "execute_result"
    }
   ],
   "source": [
    "make_out_word('<<>>', 'Yay')"
   ]
  },
  {
   "cell_type": "code",
   "execution_count": 12,
   "metadata": {},
   "outputs": [
    {
     "data": {
      "text/plain": [
       "'[[word]]'"
      ]
     },
     "execution_count": 12,
     "metadata": {},
     "output_type": "execute_result"
    }
   ],
   "source": [
    "make_out_word('[[]]', 'word') "
   ]
  },
  {
   "cell_type": "markdown",
   "metadata": {},
   "source": [
    "------------------------------------------------------------------------"
   ]
  },
  {
   "cell_type": "markdown",
   "metadata": {},
   "source": [
    "##  extra_end\n",
    "\n",
    "<pre>\n",
    "Given a string, return a new string made of 3 copies of the last 2 chars of the original string. The string length will be at least 2.\n",
    "</pre>\n",
    "\n",
    "```python \n",
    ">> extra_end('Hello') \n",
    ">> 'lololo'\n",
    ">> extra_end('ab') \n",
    ">> 'ababab'\n",
    ">> extra_end('Hi') \n",
    ">> 'HiHiHi'\n",
    "```"
   ]
  },
  {
   "cell_type": "code",
   "execution_count": 14,
   "metadata": {},
   "outputs": [],
   "source": [
    "def extra_end(str):\n",
    "  return str[-2:]*3"
   ]
  },
  {
   "cell_type": "code",
   "execution_count": 15,
   "metadata": {},
   "outputs": [
    {
     "data": {
      "text/plain": [
       "'lololo'"
      ]
     },
     "execution_count": 15,
     "metadata": {},
     "output_type": "execute_result"
    }
   ],
   "source": [
    "extra_end('Hello')"
   ]
  },
  {
   "cell_type": "code",
   "execution_count": 16,
   "metadata": {},
   "outputs": [
    {
     "data": {
      "text/plain": [
       "'ababab'"
      ]
     },
     "execution_count": 16,
     "metadata": {},
     "output_type": "execute_result"
    }
   ],
   "source": [
    "extra_end('ab') "
   ]
  },
  {
   "cell_type": "markdown",
   "metadata": {},
   "source": [
    "--------------------------------------------"
   ]
  },
  {
   "cell_type": "markdown",
   "metadata": {},
   "source": [
    "## first_two\n",
    "\n",
    "<pre>\n",
    "Given a string, return the string made of its first two chars, so the String \"Hello\" yields \"He\". If the string is shorter than length 2, return whatever there is, so \"X\" yields \"X\", and the empty string \"\" yields the empty string \"\".\n",
    "</pre>\n",
    "\n",
    "```python\n",
    ">> first_two('Hello') \n",
    ">> 'He'\n",
    ">> first_two('abcdefg') \n",
    ">> 'ab'\n",
    ">> first_two('ab') \n",
    ">> 'ab'\n",
    "```"
   ]
  },
  {
   "cell_type": "code",
   "execution_count": 23,
   "metadata": {},
   "outputs": [],
   "source": [
    "def first_two(a):\n",
    "  if len(a) < 2:\n",
    "    return a\n",
    "  return a[:2]"
   ]
  },
  {
   "cell_type": "code",
   "execution_count": 24,
   "metadata": {},
   "outputs": [
    {
     "data": {
      "text/plain": [
       "'He'"
      ]
     },
     "execution_count": 24,
     "metadata": {},
     "output_type": "execute_result"
    }
   ],
   "source": [
    "first_two('Hello')"
   ]
  },
  {
   "cell_type": "code",
   "execution_count": 25,
   "metadata": {},
   "outputs": [
    {
     "data": {
      "text/plain": [
       "'ab'"
      ]
     },
     "execution_count": 25,
     "metadata": {},
     "output_type": "execute_result"
    }
   ],
   "source": [
    "first_two('abcdefg') "
   ]
  },
  {
   "cell_type": "markdown",
   "metadata": {},
   "source": [
    "--------------------------------------------------------"
   ]
  },
  {
   "cell_type": "markdown",
   "metadata": {},
   "source": [
    "##  first_half\n",
    "\n",
    "<pre>\n",
    "Given a string of even length, return the first half. So the string \"WooHoo\" yields \"Woo\".\n",
    "</pre>\n",
    "\n",
    "```python \n",
    ">> first_half('WooHoo') \n",
    ">> 'Woo'\n",
    ">> first_half('HelloThere') \n",
    ">> 'Hello'\n",
    ">> first_half('abcdef') \n",
    ">> 'abc'\n",
    "```"
   ]
  },
  {
   "cell_type": "code",
   "execution_count": 26,
   "metadata": {},
   "outputs": [],
   "source": [
    "def first_half(str):\n",
    "  mid = len(str)//2\n",
    "  return str[:mid]"
   ]
  },
  {
   "cell_type": "code",
   "execution_count": 27,
   "metadata": {},
   "outputs": [
    {
     "data": {
      "text/plain": [
       "'Woo'"
      ]
     },
     "execution_count": 27,
     "metadata": {},
     "output_type": "execute_result"
    }
   ],
   "source": [
    "first_half('WooHoo') "
   ]
  },
  {
   "cell_type": "code",
   "execution_count": 28,
   "metadata": {},
   "outputs": [
    {
     "data": {
      "text/plain": [
       "'abc'"
      ]
     },
     "execution_count": 28,
     "metadata": {},
     "output_type": "execute_result"
    }
   ],
   "source": [
    "first_half('abcdef') "
   ]
  },
  {
   "cell_type": "markdown",
   "metadata": {},
   "source": [
    "---------------------------------------------"
   ]
  },
  {
   "cell_type": "markdown",
   "metadata": {},
   "source": [
    "## without_end\n",
    "\n",
    "<pre>\n",
    "Given a string, return a version without the first and last char, so \"Hello\" yields \"ell\". The string length will be at least 2.\n",
    "</pre>\n",
    "\n",
    "```python \n",
    ">> without_end('Hello') \n",
    ">> 'ell'\n",
    ">> without_end('java') \n",
    ">> 'av'\n",
    ">> without_end('coding') \n",
    ">> 'odin'\n",
    "```"
   ]
  },
  {
   "cell_type": "code",
   "execution_count": 30,
   "metadata": {},
   "outputs": [],
   "source": [
    "def without_end(str):\n",
    "  return str[1:-1]"
   ]
  },
  {
   "cell_type": "code",
   "execution_count": 31,
   "metadata": {},
   "outputs": [
    {
     "data": {
      "text/plain": [
       "'ell'"
      ]
     },
     "execution_count": 31,
     "metadata": {},
     "output_type": "execute_result"
    }
   ],
   "source": [
    "without_end('Hello') "
   ]
  },
  {
   "cell_type": "code",
   "execution_count": 32,
   "metadata": {},
   "outputs": [
    {
     "data": {
      "text/plain": [
       "'odin'"
      ]
     },
     "execution_count": 32,
     "metadata": {},
     "output_type": "execute_result"
    }
   ],
   "source": [
    "without_end('coding') "
   ]
  },
  {
   "cell_type": "markdown",
   "metadata": {},
   "source": [
    "------------------------------------------------------------------------"
   ]
  },
  {
   "cell_type": "markdown",
   "metadata": {},
   "source": [
    "## combo_string\n",
    "\n",
    "<pre>\n",
    "Given 2 strings, a and b, return a string of the form short+long+short, with the shorter string on the outside and the longer string on the inside. The strings will not be the same length, but they may be empty (length 0).\n",
    "</pre>\n",
    "\n",
    "```python \n",
    ">> combo_string('Hello', 'hi') \n",
    ">> 'hiHellohi'\n",
    ">> combo_string('hi', 'Hello') \n",
    ">> 'hiHellohi'\n",
    ">> combo_string('aaa', 'b') \n",
    ">> 'baaab'\n",
    "```"
   ]
  },
  {
   "cell_type": "code",
   "execution_count": 33,
   "metadata": {},
   "outputs": [],
   "source": [
    "def combo_string(a, b):\n",
    "  if len(a) > len(b):\n",
    "    return b + a + b\n",
    "  else:\n",
    "    return a+b+a"
   ]
  },
  {
   "cell_type": "code",
   "execution_count": 34,
   "metadata": {},
   "outputs": [
    {
     "data": {
      "text/plain": [
       "'hiHellohi'"
      ]
     },
     "execution_count": 34,
     "metadata": {},
     "output_type": "execute_result"
    }
   ],
   "source": [
    "combo_string('Hello', 'hi')"
   ]
  },
  {
   "cell_type": "code",
   "execution_count": 35,
   "metadata": {},
   "outputs": [
    {
     "data": {
      "text/plain": [
       "'baaab'"
      ]
     },
     "execution_count": 35,
     "metadata": {},
     "output_type": "execute_result"
    }
   ],
   "source": [
    "combo_string('aaa', 'b')"
   ]
  },
  {
   "cell_type": "markdown",
   "metadata": {},
   "source": [
    "------------------------------------------------"
   ]
  },
  {
   "cell_type": "markdown",
   "metadata": {},
   "source": [
    "## non_start\n",
    "\n",
    "<pre>\n",
    "Given 2 strings, return their concatenation, except omit the first char of each. The strings will be at least length 1.\n",
    "</pre>\n",
    "\n",
    "```python \n",
    ">> non_start('Hello', 'There') \n",
    ">> 'ellohere'\n",
    ">> non_start('java', 'code') \n",
    ">> 'avaode'\n",
    ">> non_start('shotl', 'java') \n",
    ">> 'hotlava'\n",
    "```"
   ]
  },
  {
   "cell_type": "code",
   "execution_count": 37,
   "metadata": {},
   "outputs": [],
   "source": [
    "def non_start(a, b):\n",
    "  return a[1:] + b[1:]"
   ]
  },
  {
   "cell_type": "code",
   "execution_count": 38,
   "metadata": {},
   "outputs": [
    {
     "data": {
      "text/plain": [
       "'ellohere'"
      ]
     },
     "execution_count": 38,
     "metadata": {},
     "output_type": "execute_result"
    }
   ],
   "source": [
    "non_start('Hello', 'There') "
   ]
  },
  {
   "cell_type": "code",
   "execution_count": 39,
   "metadata": {},
   "outputs": [
    {
     "data": {
      "text/plain": [
       "'hotlava'"
      ]
     },
     "execution_count": 39,
     "metadata": {},
     "output_type": "execute_result"
    }
   ],
   "source": [
    "non_start('shotl', 'java') "
   ]
  },
  {
   "cell_type": "markdown",
   "metadata": {},
   "source": [
    "------------------------------------------------"
   ]
  },
  {
   "cell_type": "markdown",
   "metadata": {},
   "source": [
    "## left2\n",
    "\n",
    "Given a string, return a \"rotated left 2\" version where the first 2 chars are moved to the end. The string length will be at least 2.\n",
    "\n",
    "```python\n",
    ">> left2('Hello') \n",
    ">> 'lloHe'\n",
    ">> left2('java') \n",
    ">> 'vaja'\n",
    ">> left2('Hi') \n",
    ">> 'Hi'\n",
    "```"
   ]
  },
  {
   "cell_type": "code",
   "execution_count": 40,
   "metadata": {},
   "outputs": [],
   "source": [
    "def left2(str):\n",
    "  if len(str) >=2:\n",
    "    return str[2:] + str[:2]"
   ]
  },
  {
   "cell_type": "code",
   "execution_count": 41,
   "metadata": {},
   "outputs": [
    {
     "data": {
      "text/plain": [
       "'lloHe'"
      ]
     },
     "execution_count": 41,
     "metadata": {},
     "output_type": "execute_result"
    }
   ],
   "source": [
    "left2('Hello') "
   ]
  },
  {
   "cell_type": "code",
   "execution_count": 42,
   "metadata": {},
   "outputs": [
    {
     "data": {
      "text/plain": [
       "'Hi'"
      ]
     },
     "execution_count": 42,
     "metadata": {},
     "output_type": "execute_result"
    }
   ],
   "source": [
    "left2('Hi') "
   ]
  },
  {
   "cell_type": "markdown",
   "metadata": {},
   "source": [
    "------------------------------------------------------------------------------------------------"
   ]
  }
 ],
 "metadata": {
  "kernelspec": {
   "display_name": "Python 3",
   "language": "python",
   "name": "python3"
  },
  "language_info": {
   "codemirror_mode": {
    "name": "ipython",
    "version": 3
   },
   "file_extension": ".py",
   "mimetype": "text/x-python",
   "name": "python",
   "nbconvert_exporter": "python",
   "pygments_lexer": "ipython3",
   "version": "3.8.0"
  }
 },
 "nbformat": 4,
 "nbformat_minor": 4
}
