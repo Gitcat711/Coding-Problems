{
 "cells": [
  {
   "cell_type": "markdown",
   "metadata": {},
   "source": [
    "# LIST-1 Coding Bat"
   ]
  },
  {
   "cell_type": "markdown",
   "metadata": {},
   "source": [
    "## first_last6\n",
    "\n",
    "<pre>\n",
    "Given an array of ints, return True if 6 appears as either the first or last element in the array. The array will be length 1 or more.\n",
    "</pre>\n",
    "\n",
    "```python \n",
    ">> first_last6([1, 2, 6]) \n",
    ">> True\n",
    ">> first_last6([6, 1, 2, 3]) \n",
    ">> True\n",
    ">> first_last6([13, 6, 1, 2, 3]) \n",
    ">> False\n",
    "```"
   ]
  },
  {
   "cell_type": "code",
   "execution_count": 1,
   "metadata": {},
   "outputs": [],
   "source": [
    "def first_last6(nums):\n",
    "  return nums[0]==6 or nums[-1]==6"
   ]
  },
  {
   "cell_type": "code",
   "execution_count": 2,
   "metadata": {},
   "outputs": [
    {
     "data": {
      "text/plain": [
       "True"
      ]
     },
     "execution_count": 2,
     "metadata": {},
     "output_type": "execute_result"
    }
   ],
   "source": [
    "first_last6([1, 2, 6]) "
   ]
  },
  {
   "cell_type": "code",
   "execution_count": 3,
   "metadata": {},
   "outputs": [
    {
     "data": {
      "text/plain": [
       "False"
      ]
     },
     "execution_count": 3,
     "metadata": {},
     "output_type": "execute_result"
    }
   ],
   "source": [
    "first_last6([13, 6, 1, 2, 3])"
   ]
  },
  {
   "cell_type": "markdown",
   "metadata": {},
   "source": [
    "----------------------------------------------------"
   ]
  },
  {
   "cell_type": "markdown",
   "metadata": {},
   "source": [
    "## same_first_last\n",
    "\n",
    "<pre>\n",
    "Given an array of ints, return True if the array is length 1 or more, and the first element and the last element are equal.\n",
    "</pre>\n",
    "\n",
    "```python \n",
    ">> same_first_last([1, 2, 3]) \n",
    ">> False\n",
    ">> same_first_last([1, 2, 3, 1]) \n",
    ">> True\n",
    ">> same_first_last([1, 2, 1]) \n",
    ">> True\n",
    "```"
   ]
  },
  {
   "cell_type": "code",
   "execution_count": 5,
   "metadata": {},
   "outputs": [],
   "source": [
    "def same_first_last(nums):\n",
    "  if len(nums) >= 1:\n",
    "    return nums[0] == nums[-1]\n",
    "  else:\n",
    "    return False"
   ]
  },
  {
   "cell_type": "code",
   "execution_count": 6,
   "metadata": {},
   "outputs": [
    {
     "data": {
      "text/plain": [
       "False"
      ]
     },
     "execution_count": 6,
     "metadata": {},
     "output_type": "execute_result"
    }
   ],
   "source": [
    "same_first_last([1, 2, 3]) "
   ]
  },
  {
   "cell_type": "code",
   "execution_count": 7,
   "metadata": {},
   "outputs": [
    {
     "data": {
      "text/plain": [
       "True"
      ]
     },
     "execution_count": 7,
     "metadata": {},
     "output_type": "execute_result"
    }
   ],
   "source": [
    "same_first_last([1, 2, 1]) "
   ]
  },
  {
   "cell_type": "markdown",
   "metadata": {},
   "source": [
    "------------------------------------------------"
   ]
  },
  {
   "cell_type": "markdown",
   "metadata": {},
   "source": [
    "## make_pi\n",
    "\n",
    "<pre>\n",
    "Return an int array length 3 containing the first 3 digits of pi, {3, 1, 4}.\n",
    "</pre>\n",
    "\n",
    "```python \n",
    ">> make_pi() \n",
    ">> [3, 1, 4]\n",
    "```"
   ]
  },
  {
   "cell_type": "code",
   "execution_count": 8,
   "metadata": {},
   "outputs": [],
   "source": [
    "def make_pi():\n",
    "  return [3,1,4]"
   ]
  },
  {
   "cell_type": "code",
   "execution_count": 10,
   "metadata": {},
   "outputs": [
    {
     "data": {
      "text/plain": [
       "[3, 1, 4]"
      ]
     },
     "execution_count": 10,
     "metadata": {},
     "output_type": "execute_result"
    }
   ],
   "source": [
    "make_pi()"
   ]
  },
  {
   "cell_type": "markdown",
   "metadata": {},
   "source": [
    "## common_end\n",
    "\n",
    "<pre>\n",
    "Given 2 arrays of ints, a and b, return True if they have the same first element or they have the same last element. Both arrays will be length 1 or more.\n",
    "</pre>\n",
    "\n",
    "```python\n",
    ">> common_end([1, 2, 3], [7, 3]) \n",
    ">> True\n",
    ">> common_end([1, 2, 3], [7, 3, 2]) \n",
    ">> False\n",
    ">> common_end([1, 2, 3], [1, 3]) \n",
    ">> True\n",
    "```"
   ]
  },
  {
   "cell_type": "code",
   "execution_count": 12,
   "metadata": {},
   "outputs": [],
   "source": [
    "def common_end(a, b):\n",
    "  if len(a) and len(b) >=1:\n",
    "    return a[0] == b[0] or a[-1] ==b[-1]"
   ]
  },
  {
   "cell_type": "code",
   "execution_count": 13,
   "metadata": {},
   "outputs": [
    {
     "data": {
      "text/plain": [
       "True"
      ]
     },
     "execution_count": 13,
     "metadata": {},
     "output_type": "execute_result"
    }
   ],
   "source": [
    "common_end([1, 2, 3], [7, 3])"
   ]
  },
  {
   "cell_type": "code",
   "execution_count": 14,
   "metadata": {},
   "outputs": [
    {
     "data": {
      "text/plain": [
       "False"
      ]
     },
     "execution_count": 14,
     "metadata": {},
     "output_type": "execute_result"
    }
   ],
   "source": [
    "common_end([1, 2, 3], [7, 3, 2]) "
   ]
  },
  {
   "cell_type": "markdown",
   "metadata": {},
   "source": [
    "------------------------------------------------------------"
   ]
  },
  {
   "cell_type": "markdown",
   "metadata": {},
   "source": [
    "## sum3\n",
    "\n",
    "Given an array of ints length 3, return the sum of all the elements.\n",
    "\n",
    "```python\n",
    ">> sum3([1, 2, 3]) \n",
    ">> 6\n",
    ">> sum3([5, 11, 2]) \n",
    ">> 18\n",
    ">> sum3([7, 0, 0])\n",
    ">> 7\n",
    "```"
   ]
  },
  {
   "cell_type": "code",
   "execution_count": 16,
   "metadata": {},
   "outputs": [],
   "source": [
    "def sum3(nums):\n",
    "  sum = 0\n",
    "  for i in nums:\n",
    "    sum+=i\n",
    "  return sum"
   ]
  },
  {
   "cell_type": "code",
   "execution_count": 17,
   "metadata": {},
   "outputs": [
    {
     "data": {
      "text/plain": [
       "6"
      ]
     },
     "execution_count": 17,
     "metadata": {},
     "output_type": "execute_result"
    }
   ],
   "source": [
    "sum3([1, 2, 3]) "
   ]
  },
  {
   "cell_type": "code",
   "execution_count": 18,
   "metadata": {},
   "outputs": [
    {
     "data": {
      "text/plain": [
       "7"
      ]
     },
     "execution_count": 18,
     "metadata": {},
     "output_type": "execute_result"
    }
   ],
   "source": [
    "sum3([7, 0, 0])"
   ]
  },
  {
   "cell_type": "markdown",
   "metadata": {},
   "source": [
    "------------------------------------------------------------"
   ]
  },
  {
   "cell_type": "markdown",
   "metadata": {},
   "source": [
    "## rotate_left3\n",
    "\n",
    "<pre>\n",
    "Given an array of ints length 3, return an array with the elements \"rotated left\" so {1, 2, 3} yields {2, 3, 1}.\n",
    "</pre>\n",
    "\n",
    "```python \n",
    ">> rotate_left3([1, 2, 3]) \n",
    ">> [2, 3, 1]\n",
    ">> rotate_left3([5, 11, 9]) \n",
    ">> [11, 9, 5]\n",
    ">> rotate_left3([7, 0, 0]) \n",
    ">> [0, 0, 7]\n",
    "```"
   ]
  },
  {
   "cell_type": "code",
   "execution_count": 19,
   "metadata": {},
   "outputs": [],
   "source": [
    "def rotate_left3(nums):\n",
    "  return nums[1:] + nums[0:1]"
   ]
  },
  {
   "cell_type": "code",
   "execution_count": 20,
   "metadata": {},
   "outputs": [
    {
     "data": {
      "text/plain": [
       "[2, 3, 1]"
      ]
     },
     "execution_count": 20,
     "metadata": {},
     "output_type": "execute_result"
    }
   ],
   "source": [
    "rotate_left3([1, 2, 3]) "
   ]
  },
  {
   "cell_type": "code",
   "execution_count": 21,
   "metadata": {},
   "outputs": [
    {
     "data": {
      "text/plain": [
       "[0, 0, 7]"
      ]
     },
     "execution_count": 21,
     "metadata": {},
     "output_type": "execute_result"
    }
   ],
   "source": [
    "rotate_left3([7, 0, 0]) "
   ]
  },
  {
   "cell_type": "markdown",
   "metadata": {},
   "source": [
    "------------------------------------------------"
   ]
  },
  {
   "cell_type": "markdown",
   "metadata": {},
   "source": [
    "## reverse3\n",
    "\n",
    "<pre>\n",
    "Given an array of ints length 3, return a new array with the elements in reverse order, so {1, 2, 3} becomes {3, 2, 1}.\n",
    "</pre>\n",
    "\n",
    "```python \n",
    ">> reverse3([1, 2, 3]) \n",
    ">> [3, 2, 1]\n",
    ">> reverse3([5, 11, 9]) \n",
    ">> [9, 11, 5]\n",
    ">> reverse3([7, 0, 0]) \n",
    ">> [0, 0, 7]\n",
    "```"
   ]
  },
  {
   "cell_type": "code",
   "execution_count": 23,
   "metadata": {},
   "outputs": [],
   "source": [
    "def reverse3(nums):\n",
    "  return nums[::-1]"
   ]
  },
  {
   "cell_type": "code",
   "execution_count": 24,
   "metadata": {},
   "outputs": [
    {
     "data": {
      "text/plain": [
       "[3, 2, 1]"
      ]
     },
     "execution_count": 24,
     "metadata": {},
     "output_type": "execute_result"
    }
   ],
   "source": [
    "reverse3([1, 2, 3]) "
   ]
  },
  {
   "cell_type": "code",
   "execution_count": 25,
   "metadata": {},
   "outputs": [
    {
     "data": {
      "text/plain": [
       "[9, 11, 5]"
      ]
     },
     "execution_count": 25,
     "metadata": {},
     "output_type": "execute_result"
    }
   ],
   "source": [
    "reverse3([5, 11, 9])"
   ]
  },
  {
   "cell_type": "markdown",
   "metadata": {},
   "source": [
    "------------------------------------------------"
   ]
  },
  {
   "cell_type": "markdown",
   "metadata": {},
   "source": [
    "## max_end3\n",
    "\n",
    "<pre>\n",
    "Given an array of ints length 3, figure out which is larger, the first or last element in the array, and set all the other elements to be that value. Return the changed array.\n",
    "</pre>\n",
    "\n",
    "```python\n",
    ">> max_end3([1, 2, 3]) \n",
    ">> [3, 3, 3]\n",
    ">> max_end3([11, 5, 9]) \n",
    ">> [11, 11, 11]\n",
    ">> max_end3([2, 11, 3]) \n",
    ">> [3, 3, 3]\n",
    "```"
   ]
  },
  {
   "cell_type": "code",
   "execution_count": 26,
   "metadata": {},
   "outputs": [],
   "source": [
    "def max_end3(nums):\n",
    "  max_num = max(nums[0],nums[2])\n",
    "  nums[0]= nums[1] = nums[2] = max_num\n",
    "  return nums"
   ]
  },
  {
   "cell_type": "code",
   "execution_count": 27,
   "metadata": {},
   "outputs": [
    {
     "data": {
      "text/plain": [
       "[3, 3, 3]"
      ]
     },
     "execution_count": 27,
     "metadata": {},
     "output_type": "execute_result"
    }
   ],
   "source": [
    "max_end3([1, 2, 3])"
   ]
  },
  {
   "cell_type": "code",
   "execution_count": 28,
   "metadata": {},
   "outputs": [
    {
     "data": {
      "text/plain": [
       "[3, 3, 3]"
      ]
     },
     "execution_count": 28,
     "metadata": {},
     "output_type": "execute_result"
    }
   ],
   "source": [
    "max_end3([2, 11, 3])"
   ]
  },
  {
   "cell_type": "markdown",
   "metadata": {},
   "source": [
    "----------------------------------------------------"
   ]
  },
  {
   "cell_type": "markdown",
   "metadata": {},
   "source": [
    "## sum2 \n",
    "\n",
    "<pre>\n",
    "Given an array of ints, return the sum of the first 2 elements in the array. If the array length is less than 2, just sum up the elements that exist, returning 0 if the array is length 0.\n",
    "</pre>\n",
    "\n",
    "```python \n",
    ">> sum2([1, 2, 3]) \n",
    ">> 3\n",
    ">> sum2([1, 1]) \n",
    ">> 2\n",
    ">> sum2([1, 1, 1, 1]) \n",
    ">> 2\n",
    "```"
   ]
  },
  {
   "cell_type": "code",
   "execution_count": 29,
   "metadata": {},
   "outputs": [],
   "source": [
    "def sum2(nums):\n",
    "  if len(nums) < 2:\n",
    "    return sum(nums) \n",
    "  return nums[0] + nums[1]"
   ]
  },
  {
   "cell_type": "code",
   "execution_count": 30,
   "metadata": {},
   "outputs": [
    {
     "data": {
      "text/plain": [
       "3"
      ]
     },
     "execution_count": 30,
     "metadata": {},
     "output_type": "execute_result"
    }
   ],
   "source": [
    "sum2([1, 2, 3]) "
   ]
  },
  {
   "cell_type": "code",
   "execution_count": 31,
   "metadata": {},
   "outputs": [
    {
     "data": {
      "text/plain": [
       "2"
      ]
     },
     "execution_count": 31,
     "metadata": {},
     "output_type": "execute_result"
    }
   ],
   "source": [
    "sum2([1, 1, 1, 1]) "
   ]
  },
  {
   "cell_type": "markdown",
   "metadata": {},
   "source": [
    "----------------------------------------------------------------"
   ]
  },
  {
   "cell_type": "markdown",
   "metadata": {},
   "source": [
    "## middle_way\n",
    "\n",
    "<pre>\n",
    "Given 2 int arrays, a and b, each length 3, return a new array length 2 containing their middle elements.\n",
    "</pre>\n",
    "\n",
    "```python \n",
    ">> middle_way([1, 2, 3], [4, 5, 6]) \n",
    ">> [2, 5]\n",
    ">> middle_way([7, 7, 7], [3, 8, 0]) \n",
    ">> [7, 8]\n",
    ">> middle_way([5, 2, 9], [1, 4, 5]) \n",
    ">> [2, 4]\n",
    "```\n"
   ]
  },
  {
   "cell_type": "code",
   "execution_count": 32,
   "metadata": {},
   "outputs": [],
   "source": [
    "def middle_way(a, b):\n",
    "  mid1 = len(a)//2\n",
    "  mid2 = len(b)//2\n",
    "  return [a[mid1], b[mid2]]"
   ]
  },
  {
   "cell_type": "code",
   "execution_count": 33,
   "metadata": {},
   "outputs": [
    {
     "data": {
      "text/plain": [
       "[2, 5]"
      ]
     },
     "execution_count": 33,
     "metadata": {},
     "output_type": "execute_result"
    }
   ],
   "source": [
    " middle_way([1, 2, 3], [4, 5, 6]) "
   ]
  },
  {
   "cell_type": "code",
   "execution_count": 34,
   "metadata": {},
   "outputs": [
    {
     "data": {
      "text/plain": [
       "[2, 4]"
      ]
     },
     "execution_count": 34,
     "metadata": {},
     "output_type": "execute_result"
    }
   ],
   "source": [
    "middle_way([5, 2, 9], [1, 4, 5]) "
   ]
  },
  {
   "cell_type": "markdown",
   "metadata": {},
   "source": [
    "--------------------------------------------------"
   ]
  },
  {
   "cell_type": "markdown",
   "metadata": {},
   "source": [
    "## make_ends\n",
    "\n",
    "<pre>\n",
    "Given an array of ints, return a new array length 2 containing the first and last elements from the original array. The original array will be length 1 or more.\n",
    "</pre>\n",
    "\n",
    "```python \n",
    ">> make_ends([1, 2, 3]) \n",
    ">> [1, 3]\n",
    ">> make_ends([1, 2, 3, 4]) \n",
    ">> [1, 4]\n",
    ">> make_ends([7, 4, 6, 2]) \n",
    ">> [7, 2]\n",
    "```"
   ]
  },
  {
   "cell_type": "code",
   "execution_count": 36,
   "metadata": {},
   "outputs": [],
   "source": [
    "def make_ends(nums):\n",
    "  return [nums[0] , nums[-1]]"
   ]
  },
  {
   "cell_type": "code",
   "execution_count": 37,
   "metadata": {},
   "outputs": [
    {
     "data": {
      "text/plain": [
       "[1, 3]"
      ]
     },
     "execution_count": 37,
     "metadata": {},
     "output_type": "execute_result"
    }
   ],
   "source": [
    "make_ends([1, 2, 3]) "
   ]
  },
  {
   "cell_type": "code",
   "execution_count": 38,
   "metadata": {},
   "outputs": [
    {
     "data": {
      "text/plain": [
       "[7, 2]"
      ]
     },
     "execution_count": 38,
     "metadata": {},
     "output_type": "execute_result"
    }
   ],
   "source": [
    " make_ends([7, 4, 6, 2]) "
   ]
  },
  {
   "cell_type": "markdown",
   "metadata": {},
   "source": [
    "------------------------------------------------------"
   ]
  },
  {
   "cell_type": "markdown",
   "metadata": {},
   "source": [
    "## has23\n",
    "\n",
    "<pre>\n",
    "Given an int array length 2, return True if it contains a 2 or a 3.\n",
    "</pre>\n",
    "\n",
    "```python\n",
    ">> has23([2, 5]) \n",
    ">> True\n",
    ">> has23([4, 3]) \n",
    ">> True\n",
    ">> has23([4, 5]) \n",
    ">> False\n",
    "```"
   ]
  },
  {
   "cell_type": "code",
   "execution_count": 40,
   "metadata": {},
   "outputs": [],
   "source": [
    "def has23(nums):\n",
    "  for i in range(len(nums)):\n",
    "    if nums[i] == 2 or nums[i] == 3:\n",
    "      return True\n",
    "  return False"
   ]
  },
  {
   "cell_type": "code",
   "execution_count": 41,
   "metadata": {},
   "outputs": [
    {
     "data": {
      "text/plain": [
       "True"
      ]
     },
     "execution_count": 41,
     "metadata": {},
     "output_type": "execute_result"
    }
   ],
   "source": [
    "has23([2, 5]) "
   ]
  },
  {
   "cell_type": "code",
   "execution_count": 42,
   "metadata": {},
   "outputs": [
    {
     "data": {
      "text/plain": [
       "False"
      ]
     },
     "execution_count": 42,
     "metadata": {},
     "output_type": "execute_result"
    }
   ],
   "source": [
    "has23([4, 5])"
   ]
  },
  {
   "cell_type": "markdown",
   "metadata": {},
   "source": [
    "--------------------------------------------------------------------"
   ]
  }
 ],
 "metadata": {
  "kernelspec": {
   "display_name": "Python 3",
   "language": "python",
   "name": "python3"
  },
  "language_info": {
   "codemirror_mode": {
    "name": "ipython",
    "version": 3
   },
   "file_extension": ".py",
   "mimetype": "text/x-python",
   "name": "python",
   "nbconvert_exporter": "python",
   "pygments_lexer": "ipython3",
   "version": "3.8.0"
  }
 },
 "nbformat": 4,
 "nbformat_minor": 4
}
